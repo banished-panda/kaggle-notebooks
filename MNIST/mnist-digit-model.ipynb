{
 "cells": [
  {
   "cell_type": "code",
   "execution_count": 1,
   "id": "c58e7881",
   "metadata": {
    "_cell_guid": "b1076dfc-b9ad-4769-8c92-a6c4dae69d19",
    "_uuid": "8f2839f25d086af736a60e9eeb907d3b93b6e0e5",
    "execution": {
     "iopub.execute_input": "2023-05-10T16:24:10.879576Z",
     "iopub.status.busy": "2023-05-10T16:24:10.878992Z",
     "iopub.status.idle": "2023-05-10T16:24:10.904914Z",
     "shell.execute_reply": "2023-05-10T16:24:10.903678Z"
    },
    "papermill": {
     "duration": 0.03774,
     "end_time": "2023-05-10T16:24:10.907841",
     "exception": false,
     "start_time": "2023-05-10T16:24:10.870101",
     "status": "completed"
    },
    "tags": []
   },
   "outputs": [
    {
     "name": "stdout",
     "output_type": "stream",
     "text": [
      "/kaggle/input/mnist-in-csv/mnist_test.csv\n",
      "/kaggle/input/mnist-in-csv/mnist_train.csv\n"
     ]
    }
   ],
   "source": [
    "# This Python 3 environment comes with many helpful analytics libraries installed\n",
    "# It is defined by the kaggle/python Docker image: https://github.com/kaggle/docker-python\n",
    "# For example, here's several helpful packages to load\n",
    "\n",
    "import numpy as np # linear algebra\n",
    "import pandas as pd # data processing, CSV file I/O (e.g. pd.read_csv)\n",
    "import matplotlib.pyplot as plt\n",
    "\n",
    "# Input data files are available in the read-only \"../input/\" directory\n",
    "# For example, running this (by clicking run or pressing Shift+Enter) will list all files under the input directory\n",
    "\n",
    "import os\n",
    "for dirname, _, filenames in os.walk('/kaggle/input'):\n",
    "    for filename in filenames:\n",
    "        print(os.path.join(dirname, filename))\n",
    "\n",
    "# You can write up to 20GB to the current directory (/kaggle/working/) that gets preserved as output when you create a version using \"Save & Run All\" \n",
    "# You can also write temporary files to /kaggle/temp/, but they won't be saved outside of the current session"
   ]
  },
  {
   "cell_type": "code",
   "execution_count": 2,
   "id": "c71c98ac",
   "metadata": {
    "execution": {
     "iopub.execute_input": "2023-05-10T16:24:10.922692Z",
     "iopub.status.busy": "2023-05-10T16:24:10.921962Z",
     "iopub.status.idle": "2023-05-10T16:24:18.498170Z",
     "shell.execute_reply": "2023-05-10T16:24:18.497056Z"
    },
    "papermill": {
     "duration": 7.58671,
     "end_time": "2023-05-10T16:24:18.500961",
     "exception": false,
     "start_time": "2023-05-10T16:24:10.914251",
     "status": "completed"
    },
    "tags": []
   },
   "outputs": [
    {
     "data": {
      "text/html": [
       "<div>\n",
       "<style scoped>\n",
       "    .dataframe tbody tr th:only-of-type {\n",
       "        vertical-align: middle;\n",
       "    }\n",
       "\n",
       "    .dataframe tbody tr th {\n",
       "        vertical-align: top;\n",
       "    }\n",
       "\n",
       "    .dataframe thead th {\n",
       "        text-align: right;\n",
       "    }\n",
       "</style>\n",
       "<table border=\"1\" class=\"dataframe\">\n",
       "  <thead>\n",
       "    <tr style=\"text-align: right;\">\n",
       "      <th></th>\n",
       "      <th>label</th>\n",
       "      <th>1x1</th>\n",
       "      <th>1x2</th>\n",
       "      <th>1x3</th>\n",
       "      <th>1x4</th>\n",
       "      <th>1x5</th>\n",
       "      <th>1x6</th>\n",
       "      <th>1x7</th>\n",
       "      <th>1x8</th>\n",
       "      <th>1x9</th>\n",
       "      <th>...</th>\n",
       "      <th>28x19</th>\n",
       "      <th>28x20</th>\n",
       "      <th>28x21</th>\n",
       "      <th>28x22</th>\n",
       "      <th>28x23</th>\n",
       "      <th>28x24</th>\n",
       "      <th>28x25</th>\n",
       "      <th>28x26</th>\n",
       "      <th>28x27</th>\n",
       "      <th>28x28</th>\n",
       "    </tr>\n",
       "  </thead>\n",
       "  <tbody>\n",
       "    <tr>\n",
       "      <th>0</th>\n",
       "      <td>5</td>\n",
       "      <td>0</td>\n",
       "      <td>0</td>\n",
       "      <td>0</td>\n",
       "      <td>0</td>\n",
       "      <td>0</td>\n",
       "      <td>0</td>\n",
       "      <td>0</td>\n",
       "      <td>0</td>\n",
       "      <td>0</td>\n",
       "      <td>...</td>\n",
       "      <td>0</td>\n",
       "      <td>0</td>\n",
       "      <td>0</td>\n",
       "      <td>0</td>\n",
       "      <td>0</td>\n",
       "      <td>0</td>\n",
       "      <td>0</td>\n",
       "      <td>0</td>\n",
       "      <td>0</td>\n",
       "      <td>0</td>\n",
       "    </tr>\n",
       "    <tr>\n",
       "      <th>1</th>\n",
       "      <td>0</td>\n",
       "      <td>0</td>\n",
       "      <td>0</td>\n",
       "      <td>0</td>\n",
       "      <td>0</td>\n",
       "      <td>0</td>\n",
       "      <td>0</td>\n",
       "      <td>0</td>\n",
       "      <td>0</td>\n",
       "      <td>0</td>\n",
       "      <td>...</td>\n",
       "      <td>0</td>\n",
       "      <td>0</td>\n",
       "      <td>0</td>\n",
       "      <td>0</td>\n",
       "      <td>0</td>\n",
       "      <td>0</td>\n",
       "      <td>0</td>\n",
       "      <td>0</td>\n",
       "      <td>0</td>\n",
       "      <td>0</td>\n",
       "    </tr>\n",
       "    <tr>\n",
       "      <th>2</th>\n",
       "      <td>4</td>\n",
       "      <td>0</td>\n",
       "      <td>0</td>\n",
       "      <td>0</td>\n",
       "      <td>0</td>\n",
       "      <td>0</td>\n",
       "      <td>0</td>\n",
       "      <td>0</td>\n",
       "      <td>0</td>\n",
       "      <td>0</td>\n",
       "      <td>...</td>\n",
       "      <td>0</td>\n",
       "      <td>0</td>\n",
       "      <td>0</td>\n",
       "      <td>0</td>\n",
       "      <td>0</td>\n",
       "      <td>0</td>\n",
       "      <td>0</td>\n",
       "      <td>0</td>\n",
       "      <td>0</td>\n",
       "      <td>0</td>\n",
       "    </tr>\n",
       "    <tr>\n",
       "      <th>3</th>\n",
       "      <td>1</td>\n",
       "      <td>0</td>\n",
       "      <td>0</td>\n",
       "      <td>0</td>\n",
       "      <td>0</td>\n",
       "      <td>0</td>\n",
       "      <td>0</td>\n",
       "      <td>0</td>\n",
       "      <td>0</td>\n",
       "      <td>0</td>\n",
       "      <td>...</td>\n",
       "      <td>0</td>\n",
       "      <td>0</td>\n",
       "      <td>0</td>\n",
       "      <td>0</td>\n",
       "      <td>0</td>\n",
       "      <td>0</td>\n",
       "      <td>0</td>\n",
       "      <td>0</td>\n",
       "      <td>0</td>\n",
       "      <td>0</td>\n",
       "    </tr>\n",
       "    <tr>\n",
       "      <th>4</th>\n",
       "      <td>9</td>\n",
       "      <td>0</td>\n",
       "      <td>0</td>\n",
       "      <td>0</td>\n",
       "      <td>0</td>\n",
       "      <td>0</td>\n",
       "      <td>0</td>\n",
       "      <td>0</td>\n",
       "      <td>0</td>\n",
       "      <td>0</td>\n",
       "      <td>...</td>\n",
       "      <td>0</td>\n",
       "      <td>0</td>\n",
       "      <td>0</td>\n",
       "      <td>0</td>\n",
       "      <td>0</td>\n",
       "      <td>0</td>\n",
       "      <td>0</td>\n",
       "      <td>0</td>\n",
       "      <td>0</td>\n",
       "      <td>0</td>\n",
       "    </tr>\n",
       "  </tbody>\n",
       "</table>\n",
       "<p>5 rows × 785 columns</p>\n",
       "</div>"
      ],
      "text/plain": [
       "   label  1x1  1x2  1x3  1x4  1x5  1x6  1x7  1x8  1x9  ...  28x19  28x20  \\\n",
       "0      5    0    0    0    0    0    0    0    0    0  ...      0      0   \n",
       "1      0    0    0    0    0    0    0    0    0    0  ...      0      0   \n",
       "2      4    0    0    0    0    0    0    0    0    0  ...      0      0   \n",
       "3      1    0    0    0    0    0    0    0    0    0  ...      0      0   \n",
       "4      9    0    0    0    0    0    0    0    0    0  ...      0      0   \n",
       "\n",
       "   28x21  28x22  28x23  28x24  28x25  28x26  28x27  28x28  \n",
       "0      0      0      0      0      0      0      0      0  \n",
       "1      0      0      0      0      0      0      0      0  \n",
       "2      0      0      0      0      0      0      0      0  \n",
       "3      0      0      0      0      0      0      0      0  \n",
       "4      0      0      0      0      0      0      0      0  \n",
       "\n",
       "[5 rows x 785 columns]"
      ]
     },
     "execution_count": 2,
     "metadata": {},
     "output_type": "execute_result"
    }
   ],
   "source": [
    "train_df = pd.read_csv('/kaggle/input/mnist-in-csv/mnist_train.csv')\n",
    "test_df = pd.read_csv('/kaggle/input/mnist-in-csv/mnist_test.csv')\n",
    "train_df.head()"
   ]
  },
  {
   "cell_type": "code",
   "execution_count": 3,
   "id": "742d1fcd",
   "metadata": {
    "execution": {
     "iopub.execute_input": "2023-05-10T16:24:18.516228Z",
     "iopub.status.busy": "2023-05-10T16:24:18.515815Z",
     "iopub.status.idle": "2023-05-10T16:24:18.870670Z",
     "shell.execute_reply": "2023-05-10T16:24:18.869638Z"
    },
    "papermill": {
     "duration": 0.365916,
     "end_time": "2023-05-10T16:24:18.873503",
     "exception": false,
     "start_time": "2023-05-10T16:24:18.507587",
     "status": "completed"
    },
    "tags": []
   },
   "outputs": [],
   "source": [
    "y_train = train_df.pop('label').to_numpy()\n",
    "X_train = train_df.to_numpy()\n",
    "y_test = test_df.pop('label').to_numpy()\n",
    "X_test = test_df.to_numpy()"
   ]
  },
  {
   "cell_type": "code",
   "execution_count": 4,
   "id": "ceff3eaf",
   "metadata": {
    "execution": {
     "iopub.execute_input": "2023-05-10T16:24:18.892895Z",
     "iopub.status.busy": "2023-05-10T16:24:18.892476Z",
     "iopub.status.idle": "2023-05-10T16:24:18.899363Z",
     "shell.execute_reply": "2023-05-10T16:24:18.898201Z"
    },
    "papermill": {
     "duration": 0.021787,
     "end_time": "2023-05-10T16:24:18.901716",
     "exception": false,
     "start_time": "2023-05-10T16:24:18.879929",
     "status": "completed"
    },
    "tags": []
   },
   "outputs": [
    {
     "data": {
      "text/plain": [
       "(60000, 784)"
      ]
     },
     "execution_count": 4,
     "metadata": {},
     "output_type": "execute_result"
    }
   ],
   "source": [
    "X_train.shape"
   ]
  },
  {
   "cell_type": "code",
   "execution_count": 5,
   "id": "eb3e9bf5",
   "metadata": {
    "execution": {
     "iopub.execute_input": "2023-05-10T16:24:18.916928Z",
     "iopub.status.busy": "2023-05-10T16:24:18.916531Z",
     "iopub.status.idle": "2023-05-10T16:24:18.923027Z",
     "shell.execute_reply": "2023-05-10T16:24:18.921805Z"
    },
    "papermill": {
     "duration": 0.016891,
     "end_time": "2023-05-10T16:24:18.925330",
     "exception": false,
     "start_time": "2023-05-10T16:24:18.908439",
     "status": "completed"
    },
    "tags": []
   },
   "outputs": [],
   "source": [
    "def display_image(dataset='train', n = 0):\n",
    "    if dataset == 'test':\n",
    "        dataset = X_test\n",
    "        label = y_test\n",
    "    else:\n",
    "        dataset = X_train\n",
    "        label = y_train\n",
    "    img_data = dataset[n]\n",
    "    print(\"Label:\", label[n])\n",
    "    plt.imshow(img_data.reshape((28,28)), cmap='gray')"
   ]
  },
  {
   "cell_type": "code",
   "execution_count": 6,
   "id": "ae2feeba",
   "metadata": {
    "execution": {
     "iopub.execute_input": "2023-05-10T16:24:18.940886Z",
     "iopub.status.busy": "2023-05-10T16:24:18.939894Z",
     "iopub.status.idle": "2023-05-10T16:24:19.217349Z",
     "shell.execute_reply": "2023-05-10T16:24:19.216165Z"
    },
    "papermill": {
     "duration": 0.288372,
     "end_time": "2023-05-10T16:24:19.220342",
     "exception": false,
     "start_time": "2023-05-10T16:24:18.931970",
     "status": "completed"
    },
    "tags": []
   },
   "outputs": [
    {
     "name": "stdout",
     "output_type": "stream",
     "text": [
      "Label: 3\n"
     ]
    },
    {
     "data": {
      "image/png": "[encoded data removed]",
      "text/plain": [
       "<Figure size 640x480 with 1 Axes>"
      ]
     },
     "metadata": {},
     "output_type": "display_data"
    }
   ],
   "source": [
    "display_image(n = 10)"
   ]
  },
  {
   "cell_type": "code",
   "execution_count": 7,
   "id": "8cfcfb09",
   "metadata": {
    "execution": {
     "iopub.execute_input": "2023-05-10T16:24:19.236379Z",
     "iopub.status.busy": "2023-05-10T16:24:19.235897Z",
     "iopub.status.idle": "2023-05-10T16:24:27.792643Z",
     "shell.execute_reply": "2023-05-10T16:24:27.791197Z"
    },
    "papermill": {
     "duration": 8.568591,
     "end_time": "2023-05-10T16:24:27.796039",
     "exception": false,
     "start_time": "2023-05-10T16:24:19.227448",
     "status": "completed"
    },
    "tags": []
   },
   "outputs": [
    {
     "name": "stderr",
     "output_type": "stream",
     "text": [
      "/opt/conda/lib/python3.10/site-packages/scipy/__init__.py:146: UserWarning: A NumPy version >=1.16.5 and <1.23.0 is required for this version of SciPy (detected version 1.23.5\n",
      "  warnings.warn(f\"A NumPy version >={np_minversion} and <{np_maxversion}\"\n"
     ]
    }
   ],
   "source": [
    "from tensorflow import keras\n",
    "from tensorflow.keras import layers"
   ]
  },
  {
   "cell_type": "code",
   "execution_count": 8,
   "id": "1253c838",
   "metadata": {
    "execution": {
     "iopub.execute_input": "2023-05-10T16:24:27.813690Z",
     "iopub.status.busy": "2023-05-10T16:24:27.812316Z",
     "iopub.status.idle": "2023-05-10T16:24:28.047070Z",
     "shell.execute_reply": "2023-05-10T16:24:28.045883Z"
    },
    "papermill": {
     "duration": 0.246696,
     "end_time": "2023-05-10T16:24:28.050193",
     "exception": false,
     "start_time": "2023-05-10T16:24:27.803497",
     "status": "completed"
    },
    "tags": []
   },
   "outputs": [],
   "source": [
    "model = keras.models.Sequential([\n",
    "    layers.BatchNormalization(input_shape = [784]),\n",
    "    layers.Dense(64, activation = 'relu'),\n",
    "    layers.Dropout(0.1),\n",
    "    layers.Dense(16, activation = 'relu'),\n",
    "    layers.Dropout(0.1),\n",
    "    layers.Dense(10, activation = 'softmax'),\n",
    "])"
   ]
  },
  {
   "cell_type": "code",
   "execution_count": 9,
   "id": "7a4a6542",
   "metadata": {
    "execution": {
     "iopub.execute_input": "2023-05-10T16:24:28.067532Z",
     "iopub.status.busy": "2023-05-10T16:24:28.067091Z",
     "iopub.status.idle": "2023-05-10T16:24:28.098013Z",
     "shell.execute_reply": "2023-05-10T16:24:28.096654Z"
    },
    "papermill": {
     "duration": 0.042243,
     "end_time": "2023-05-10T16:24:28.100559",
     "exception": false,
     "start_time": "2023-05-10T16:24:28.058316",
     "status": "completed"
    },
    "tags": []
   },
   "outputs": [
    {
     "name": "stdout",
     "output_type": "stream",
     "text": [
      "Model: \"sequential\"\n",
      "_________________________________________________________________\n",
      " Layer (type)                Output Shape              Param #   \n",
      "=================================================================\n",
      " batch_normalization (BatchN  (None, 784)              3136      \n",
      " ormalization)                                                   \n",
      "                                                                 \n",
      " dense (Dense)               (None, 64)                50240     \n",
      "                                                                 \n",
      " dropout (Dropout)           (None, 64)                0         \n",
      "                                                                 \n",
      " dense_1 (Dense)             (None, 16)                1040      \n",
      "                                                                 \n",
      " dropout_1 (Dropout)         (None, 16)                0         \n",
      "                                                                 \n",
      " dense_2 (Dense)             (None, 10)                170       \n",
      "                                                                 \n",
      "=================================================================\n",
      "Total params: 54,586\n",
      "Trainable params: 53,018\n",
      "Non-trainable params: 1,568\n",
      "_________________________________________________________________\n"
     ]
    }
   ],
   "source": [
    "model.summary()"
   ]
  },
  {
   "cell_type": "code",
   "execution_count": 10,
   "id": "f45fd71e",
   "metadata": {
    "execution": {
     "iopub.execute_input": "2023-05-10T16:24:28.121156Z",
     "iopub.status.busy": "2023-05-10T16:24:28.120648Z",
     "iopub.status.idle": "2023-05-10T16:24:28.142664Z",
     "shell.execute_reply": "2023-05-10T16:24:28.141551Z"
    },
    "papermill": {
     "duration": 0.035764,
     "end_time": "2023-05-10T16:24:28.145531",
     "exception": false,
     "start_time": "2023-05-10T16:24:28.109767",
     "status": "completed"
    },
    "tags": []
   },
   "outputs": [],
   "source": [
    "model.compile(optimizer='adam',\n",
    "             loss='sparse_categorical_crossentropy',\n",
    "             metrics = 'accuracy')"
   ]
  },
  {
   "cell_type": "code",
   "execution_count": 11,
   "id": "92c3af6a",
   "metadata": {
    "execution": {
     "iopub.execute_input": "2023-05-10T16:24:28.166024Z",
     "iopub.status.busy": "2023-05-10T16:24:28.165579Z",
     "iopub.status.idle": "2023-05-10T16:24:59.734163Z",
     "shell.execute_reply": "2023-05-10T16:24:59.733181Z"
    },
    "papermill": {
     "duration": 31.581962,
     "end_time": "2023-05-10T16:24:59.736703",
     "exception": false,
     "start_time": "2023-05-10T16:24:28.154741",
     "status": "completed"
    },
    "tags": []
   },
   "outputs": [
    {
     "name": "stdout",
     "output_type": "stream",
     "text": [
      "Epoch 1/25\n",
      "120/120 [==============================] - 3s 13ms/step - loss: 0.8566 - accuracy: 0.7226 - val_loss: 0.3086 - val_accuracy: 0.9120\n",
      "Epoch 2/25\n",
      "120/120 [==============================] - 1s 10ms/step - loss: 0.3593 - accuracy: 0.8909 - val_loss: 0.2193 - val_accuracy: 0.9397\n",
      "Epoch 3/25\n",
      "120/120 [==============================] - 1s 10ms/step - loss: 0.2815 - accuracy: 0.9143 - val_loss: 0.1891 - val_accuracy: 0.9478\n",
      "Epoch 4/25\n",
      "120/120 [==============================] - 1s 10ms/step - loss: 0.2388 - accuracy: 0.9278 - val_loss: 0.1768 - val_accuracy: 0.9530\n",
      "Epoch 5/25\n",
      "120/120 [==============================] - 1s 10ms/step - loss: 0.2128 - accuracy: 0.9348 - val_loss: 0.1696 - val_accuracy: 0.9569\n",
      "Epoch 6/25\n",
      "120/120 [==============================] - 1s 10ms/step - loss: 0.1879 - accuracy: 0.9418 - val_loss: 0.1666 - val_accuracy: 0.9601\n",
      "Epoch 7/25\n",
      "120/120 [==============================] - 1s 9ms/step - loss: 0.1764 - accuracy: 0.9459 - val_loss: 0.1621 - val_accuracy: 0.9616\n",
      "Epoch 8/25\n",
      "120/120 [==============================] - 1s 10ms/step - loss: 0.1623 - accuracy: 0.9498 - val_loss: 0.1608 - val_accuracy: 0.9641\n",
      "Epoch 9/25\n",
      "120/120 [==============================] - 1s 10ms/step - loss: 0.1485 - accuracy: 0.9542 - val_loss: 0.1617 - val_accuracy: 0.9651\n",
      "Epoch 10/25\n",
      "120/120 [==============================] - 1s 10ms/step - loss: 0.1405 - accuracy: 0.9557 - val_loss: 0.1588 - val_accuracy: 0.9658\n",
      "Epoch 11/25\n",
      "120/120 [==============================] - 1s 9ms/step - loss: 0.1342 - accuracy: 0.9589 - val_loss: 0.1574 - val_accuracy: 0.9677\n",
      "Epoch 12/25\n",
      "120/120 [==============================] - 1s 9ms/step - loss: 0.1267 - accuracy: 0.9605 - val_loss: 0.1578 - val_accuracy: 0.9671\n",
      "Epoch 13/25\n",
      "120/120 [==============================] - 1s 10ms/step - loss: 0.1212 - accuracy: 0.9617 - val_loss: 0.1556 - val_accuracy: 0.9685\n",
      "Epoch 14/25\n",
      "120/120 [==============================] - 1s 9ms/step - loss: 0.1168 - accuracy: 0.9637 - val_loss: 0.1557 - val_accuracy: 0.9687\n",
      "Epoch 15/25\n",
      "120/120 [==============================] - 1s 9ms/step - loss: 0.1099 - accuracy: 0.9657 - val_loss: 0.1590 - val_accuracy: 0.9699\n",
      "Epoch 16/25\n",
      "120/120 [==============================] - 1s 10ms/step - loss: 0.1050 - accuracy: 0.9662 - val_loss: 0.1636 - val_accuracy: 0.9684\n",
      "Epoch 17/25\n",
      "120/120 [==============================] - 1s 9ms/step - loss: 0.1038 - accuracy: 0.9670 - val_loss: 0.1591 - val_accuracy: 0.9688\n",
      "Epoch 18/25\n",
      "120/120 [==============================] - 1s 9ms/step - loss: 0.0994 - accuracy: 0.9681 - val_loss: 0.1568 - val_accuracy: 0.9712\n",
      "Epoch 19/25\n",
      "120/120 [==============================] - 1s 9ms/step - loss: 0.0974 - accuracy: 0.9691 - val_loss: 0.1625 - val_accuracy: 0.9699\n",
      "Epoch 20/25\n",
      "120/120 [==============================] - 1s 10ms/step - loss: 0.0938 - accuracy: 0.9700 - val_loss: 0.1645 - val_accuracy: 0.9702\n",
      "Epoch 21/25\n",
      "120/120 [==============================] - 1s 9ms/step - loss: 0.0906 - accuracy: 0.9714 - val_loss: 0.1697 - val_accuracy: 0.9718\n",
      "Epoch 22/25\n",
      "120/120 [==============================] - 1s 10ms/step - loss: 0.0884 - accuracy: 0.9714 - val_loss: 0.1767 - val_accuracy: 0.9696\n",
      "Epoch 23/25\n",
      "120/120 [==============================] - 1s 10ms/step - loss: 0.0879 - accuracy: 0.9722 - val_loss: 0.1784 - val_accuracy: 0.9698\n",
      "Epoch 24/25\n",
      "120/120 [==============================] - 1s 11ms/step - loss: 0.0837 - accuracy: 0.9733 - val_loss: 0.1765 - val_accuracy: 0.9708\n",
      "Epoch 25/25\n",
      "120/120 [==============================] - 1s 11ms/step - loss: 0.0810 - accuracy: 0.9737 - val_loss: 0.1787 - val_accuracy: 0.9713\n"
     ]
    }
   ],
   "source": [
    "EPOCHS = 25\n",
    "BATCH_SIZE = 500\n",
    "\n",
    "history = model.fit(X_train,y_train,\n",
    "          batch_size=BATCH_SIZE,\n",
    "          epochs=EPOCHS,\n",
    "          validation_data=(X_test, y_test))"
   ]
  },
  {
   "cell_type": "code",
   "execution_count": 12,
   "id": "fee8ecca",
   "metadata": {
    "execution": {
     "iopub.execute_input": "2023-05-10T16:24:59.854642Z",
     "iopub.status.busy": "2023-05-10T16:24:59.853850Z",
     "iopub.status.idle": "2023-05-10T16:25:00.231219Z",
     "shell.execute_reply": "2023-05-10T16:25:00.230053Z"
    },
    "papermill": {
     "duration": 0.439075,
     "end_time": "2023-05-10T16:25:00.233776",
     "exception": false,
     "start_time": "2023-05-10T16:24:59.794701",
     "status": "completed"
    },
    "tags": []
   },
   "outputs": [
    {
     "data": {
      "image/png": "[encoded data removed]",
      "text/plain": [
       "<Figure size 800x500 with 1 Axes>"
      ]
     },
     "metadata": {},
     "output_type": "display_data"
    }
   ],
   "source": [
    "pd.DataFrame(history.history).plot(figsize=(8,5))\n",
    "plt.grid(True)"
   ]
  },
  {
   "cell_type": "code",
   "execution_count": 13,
   "id": "27bdb86a",
   "metadata": {
    "execution": {
     "iopub.execute_input": "2023-05-10T16:25:00.351094Z",
     "iopub.status.busy": "2023-05-10T16:25:00.350661Z",
     "iopub.status.idle": "2023-05-10T16:25:00.357822Z",
     "shell.execute_reply": "2023-05-10T16:25:00.356750Z"
    },
    "papermill": {
     "duration": 0.068652,
     "end_time": "2023-05-10T16:25:00.360172",
     "exception": false,
     "start_time": "2023-05-10T16:25:00.291520",
     "status": "completed"
    },
    "tags": []
   },
   "outputs": [
    {
     "data": {
      "text/plain": [
       "(10000, 784)"
      ]
     },
     "execution_count": 13,
     "metadata": {},
     "output_type": "execute_result"
    }
   ],
   "source": [
    "X_test.shape"
   ]
  },
  {
   "cell_type": "code",
   "execution_count": 14,
   "id": "d08f41f6",
   "metadata": {
    "execution": {
     "iopub.execute_input": "2023-05-10T16:25:00.479731Z",
     "iopub.status.busy": "2023-05-10T16:25:00.478936Z",
     "iopub.status.idle": "2023-05-10T16:25:01.392556Z",
     "shell.execute_reply": "2023-05-10T16:25:01.391481Z"
    },
    "papermill": {
     "duration": 0.976371,
     "end_time": "2023-05-10T16:25:01.395591",
     "exception": false,
     "start_time": "2023-05-10T16:25:00.419220",
     "status": "completed"
    },
    "tags": []
   },
   "outputs": [
    {
     "name": "stdout",
     "output_type": "stream",
     "text": [
      "313/313 [==============================] - 1s 2ms/step\n"
     ]
    }
   ],
   "source": [
    "y_predicted = model.predict(X_test)"
   ]
  },
  {
   "cell_type": "code",
   "execution_count": 15,
   "id": "ef491b08",
   "metadata": {
    "execution": {
     "iopub.execute_input": "2023-05-10T16:25:01.519325Z",
     "iopub.status.busy": "2023-05-10T16:25:01.518185Z",
     "iopub.status.idle": "2023-05-10T16:25:01.525787Z",
     "shell.execute_reply": "2023-05-10T16:25:01.524651Z"
    },
    "papermill": {
     "duration": 0.071446,
     "end_time": "2023-05-10T16:25:01.528182",
     "exception": false,
     "start_time": "2023-05-10T16:25:01.456736",
     "status": "completed"
    },
    "tags": []
   },
   "outputs": [
    {
     "data": {
      "text/plain": [
       "(10000, 10)"
      ]
     },
     "execution_count": 15,
     "metadata": {},
     "output_type": "execute_result"
    }
   ],
   "source": [
    "y_predicted.shape"
   ]
  },
  {
   "cell_type": "code",
   "execution_count": 16,
   "id": "fa7ab7a6",
   "metadata": {
    "execution": {
     "iopub.execute_input": "2023-05-10T16:25:01.650673Z",
     "iopub.status.busy": "2023-05-10T16:25:01.649811Z",
     "iopub.status.idle": "2023-05-10T16:25:01.690418Z",
     "shell.execute_reply": "2023-05-10T16:25:01.689327Z"
    },
    "papermill": {
     "duration": 0.105162,
     "end_time": "2023-05-10T16:25:01.693092",
     "exception": false,
     "start_time": "2023-05-10T16:25:01.587930",
     "status": "completed"
    },
    "tags": []
   },
   "outputs": [],
   "source": [
    "model.save('MNIST_digit_Classifier.h5')"
   ]
  }
 ],
 "metadata": {
  "kernelspec": {
   "display_name": "Python 3",
   "language": "python",
   "name": "python3"
  },
  "language_info": {
   "codemirror_mode": {
    "name": "ipython",
    "version": 3
   },
   "file_extension": ".py",
   "mimetype": "text/x-python",
   "name": "python",
   "nbconvert_exporter": "python",
   "pygments_lexer": "ipython3",
   "version": "3.10.10"
  },
  "papermill": {
   "default_parameters": {},
   "duration": 65.799082,
   "end_time": "2023-05-10T16:25:04.596417",
   "environment_variables": {},
   "exception": null,
   "input_path": "__notebook__.ipynb",
   "output_path": "__notebook__.ipynb",
   "parameters": {},
   "start_time": "2023-05-10T16:23:58.797335",
   "version": "2.4.0"
  }
 },
 "nbformat": 4,
 "nbformat_minor": 5
}
